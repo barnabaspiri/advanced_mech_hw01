{
 "cells": [
  {
   "cell_type": "code",
   "execution_count": null,
   "id": "de4e0486",
   "metadata": {},
   "outputs": [],
   "source": [
    "# Symbolic calculation for Advanced Mechanics 1st HW\n",
    "# Made by: Barnabás Piri\n",
    "# Date: 2023. 05. 03"
   ]
  },
  {
   "cell_type": "code",
   "execution_count": 88,
   "id": "34f4f07b",
   "metadata": {},
   "outputs": [],
   "source": [
    "import numpy as np\n",
    "import sympy as sp\n",
    "import matplotlib.pyplot as plt\n",
    "import matplotlib\n",
    "matplotlib.rcParams['text.usetex'] = True\n",
    "sp.init_printing(use_latex='mathjax')"
   ]
  },
  {
   "cell_type": "markdown",
   "id": "d08a3309",
   "metadata": {},
   "source": [
    "###### 1. Calculate the reaction forces acting on the blades from the hub"
   ]
  },
  {
   "cell_type": "markdown",
   "id": "645e5004",
   "metadata": {},
   "source": [
    "<center><img src=\"mech_model.png\" width=500/></center>"
   ]
  },
  {
   "cell_type": "code",
   "execution_count": 48,
   "id": "c7b68c59",
   "metadata": {},
   "outputs": [],
   "source": [
    "ρ_num = 7800 # kg/m^3\n",
    "r_num = 150 / 1000 # m\n",
    "l_num = 125 / 1000 # m\n",
    "α_num = 18 * np.pi/180 # rad\n",
    "b_num = 6 / 1000 # m\n",
    "n_num = 2800 * 1/60 # 1/s\n",
    "a_c_num = 0 # m/s^2\n",
    "ε_z_num = -30000 # rad/s^2"
   ]
  },
  {
   "cell_type": "code",
   "execution_count": 49,
   "id": "be03598f",
   "metadata": {},
   "outputs": [],
   "source": [
    "ω_num = 2*np.pi*n_num # rad/s"
   ]
  },
  {
   "cell_type": "code",
   "execution_count": 50,
   "id": "712918d7",
   "metadata": {},
   "outputs": [],
   "source": [
    "ρ, r, l, α, b, ε_z, x, n, ω = sp.symbols('ρ, r, l, α, b, ε_z, x, n, ω')"
   ]
  },
  {
   "cell_type": "code",
   "execution_count": 51,
   "id": "27ece2f8",
   "metadata": {},
   "outputs": [],
   "source": [
    "data = [(ρ, ρ_num), (r, r_num), (l, l_num), (α, α_num), (b, b_num), (n, n_num), (ε_z, ε_z_num), (ω, ω_num)]"
   ]
  },
  {
   "cell_type": "markdown",
   "id": "190a876b",
   "metadata": {},
   "source": [
    "Area of a blade at cross section $x$:"
   ]
  },
  {
   "cell_type": "code",
   "execution_count": 52,
   "id": "cd849e2c",
   "metadata": {},
   "outputs": [],
   "source": [
    "w = (r+x)*sp.tan(α)"
   ]
  },
  {
   "cell_type": "code",
   "execution_count": 53,
   "id": "3b9eb08f",
   "metadata": {},
   "outputs": [
    {
     "data": {
      "text/latex": [
       "$\\displaystyle b \\left(r + x\\right) \\tan{\\left(α \\right)}$"
      ],
      "text/plain": [
       "b⋅(r + x)⋅tan(α)"
      ]
     },
     "execution_count": 53,
     "metadata": {},
     "output_type": "execute_result"
    }
   ],
   "source": [
    "A = b*w\n",
    "A"
   ]
  },
  {
   "cell_type": "markdown",
   "id": "9df506b6",
   "metadata": {},
   "source": [
    "###### 1. step: rigid body dynamics"
   ]
  },
  {
   "cell_type": "markdown",
   "id": "3ff6c586",
   "metadata": {},
   "source": [
    "The angular accelaration is already given, so this step is automatically completed."
   ]
  },
  {
   "cell_type": "markdown",
   "id": "60973b15",
   "metadata": {},
   "source": [
    "###### 2. step: kinematics"
   ]
  },
  {
   "cell_type": "code",
   "execution_count": 54,
   "id": "b02f00e2",
   "metadata": {},
   "outputs": [
    {
     "data": {
      "text/latex": [
       "$\\displaystyle \\left[\\begin{matrix}- ω^{2} \\left(r + x\\right)\\\\ε_{z} \\left(r + x\\right)\\\\0\\end{matrix}\\right]$"
      ],
      "text/plain": [
       "⎡  2        ⎤\n",
       "⎢-ω ⋅(r + x)⎥\n",
       "⎢           ⎥\n",
       "⎢ε_z⋅(r + x)⎥\n",
       "⎢           ⎥\n",
       "⎣     0     ⎦"
      ]
     },
     "execution_count": 54,
     "metadata": {},
     "output_type": "execute_result"
    }
   ],
   "source": [
    "a = sp.Matrix([[-ω**2*(r+x)], [ε_z*(r+x)], [0]])\n",
    "a"
   ]
  },
  {
   "cell_type": "markdown",
   "id": "ed992da9",
   "metadata": {},
   "source": [
    "###### 3. step: D'Alambert principle"
   ]
  },
  {
   "cell_type": "code",
   "execution_count": 55,
   "id": "7cdf6b23",
   "metadata": {
    "scrolled": true
   },
   "outputs": [
    {
     "data": {
      "text/latex": [
       "$\\displaystyle \\left[\\begin{matrix}b ρ ω^{2} \\left(r + x\\right)^{2} \\tan{\\left(α \\right)}\\\\- b ε_{z} ρ \\left(r + x\\right)^{2} \\tan{\\left(α \\right)}\\\\0\\end{matrix}\\right]$"
      ],
      "text/plain": [
       "⎡      2        2        ⎤\n",
       "⎢ b⋅ρ⋅ω ⋅(r + x) ⋅tan(α) ⎥\n",
       "⎢                        ⎥\n",
       "⎢                2       ⎥\n",
       "⎢-b⋅ε_z⋅ρ⋅(r + x) ⋅tan(α)⎥\n",
       "⎢                        ⎥\n",
       "⎣           0            ⎦"
      ]
     },
     "execution_count": 55,
     "metadata": {},
     "output_type": "execute_result"
    }
   ],
   "source": [
    "p = -ρ*A*a\n",
    "p"
   ]
  },
  {
   "cell_type": "code",
   "execution_count": 56,
   "id": "186cdbe3",
   "metadata": {},
   "outputs": [
    {
     "data": {
      "text/latex": [
       "$\\displaystyle b ρ ω^{2} \\left(r + x\\right)^{2} \\tan{\\left(α \\right)}$"
      ],
      "text/plain": [
       "     2        2       \n",
       "b⋅ρ⋅ω ⋅(r + x) ⋅tan(α)"
      ]
     },
     "execution_count": 56,
     "metadata": {},
     "output_type": "execute_result"
    }
   ],
   "source": [
    "p_x = p[0]\n",
    "p_x"
   ]
  },
  {
   "cell_type": "code",
   "execution_count": 57,
   "id": "1bd8793a",
   "metadata": {},
   "outputs": [
    {
     "data": {
      "text/latex": [
       "$\\displaystyle - b ε_{z} ρ \\left(r + x\\right)^{2} \\tan{\\left(α \\right)}$"
      ],
      "text/plain": [
       "                2       \n",
       "-b⋅ε_z⋅ρ⋅(r + x) ⋅tan(α)"
      ]
     },
     "execution_count": 57,
     "metadata": {},
     "output_type": "execute_result"
    }
   ],
   "source": [
    "p_y = p[1]\n",
    "p_y"
   ]
  },
  {
   "cell_type": "markdown",
   "id": "08ee1435",
   "metadata": {},
   "source": [
    "###### 4. step: elastic body"
   ]
  },
  {
   "cell_type": "code",
   "execution_count": 58,
   "id": "d3f504a4",
   "metadata": {},
   "outputs": [],
   "source": [
    "O_x, O_y, M_O = sp.symbols('O_x, O_y, M_O')"
   ]
  },
  {
   "cell_type": "code",
   "execution_count": 59,
   "id": "dee7bbc2",
   "metadata": {},
   "outputs": [
    {
     "data": {
      "text/latex": [
       "$\\displaystyle O_{x} + \\frac{b l^{3} ρ ω^{2} \\tan{\\left(α \\right)}}{3} + b l^{2} r ρ ω^{2} \\tan{\\left(α \\right)} + b l r^{2} ρ ω^{2} \\tan{\\left(α \\right)} = 0$"
      ],
      "text/plain": [
       "        3    2                                                     \n",
       "     b⋅l ⋅ρ⋅ω ⋅tan(α)      2      2               2    2           \n",
       "Oₓ + ──────────────── + b⋅l ⋅r⋅ρ⋅ω ⋅tan(α) + b⋅l⋅r ⋅ρ⋅ω ⋅tan(α) = 0\n",
       "            3                                                      "
      ]
     },
     "execution_count": 59,
     "metadata": {},
     "output_type": "execute_result"
    }
   ],
   "source": [
    "eq1 = sp.Eq( O_x + sp.integrate(p_x, (x,0,l)), 0 )\n",
    "eq1"
   ]
  },
  {
   "cell_type": "code",
   "execution_count": 60,
   "id": "a34598a6",
   "metadata": {
    "scrolled": false
   },
   "outputs": [
    {
     "data": {
      "text/latex": [
       "$\\displaystyle O_{y} - \\frac{b l^{3} ε_{z} ρ \\tan{\\left(α \\right)}}{3} - b l^{2} r ε_{z} ρ \\tan{\\left(α \\right)} - b l r^{2} ε_{z} ρ \\tan{\\left(α \\right)} = 0$"
      ],
      "text/plain": [
       "         3                                                             \n",
       "      b⋅l ⋅ε_z⋅ρ⋅tan(α)      2                       2                 \n",
       "O_y - ───────────────── - b⋅l ⋅r⋅ε_z⋅ρ⋅tan(α) - b⋅l⋅r ⋅ε_z⋅ρ⋅tan(α) = 0\n",
       "              3                                                        "
      ]
     },
     "execution_count": 60,
     "metadata": {},
     "output_type": "execute_result"
    }
   ],
   "source": [
    "eq2 = sp.Eq( O_y + sp.integrate(p_y, (x,0,l)), 0 )\n",
    "eq2"
   ]
  },
  {
   "cell_type": "code",
   "execution_count": 61,
   "id": "4bdcf25a",
   "metadata": {},
   "outputs": [],
   "source": [
    "O_x = sp.solve(eq1, O_x)\n",
    "O_x = O_x[0]"
   ]
  },
  {
   "cell_type": "code",
   "execution_count": 62,
   "id": "71ae95e3",
   "metadata": {},
   "outputs": [],
   "source": [
    "O_y = sp.solve(eq2, O_y)\n",
    "O_y = O_y[0]"
   ]
  },
  {
   "cell_type": "code",
   "execution_count": 63,
   "id": "c85ec5c6",
   "metadata": {},
   "outputs": [
    {
     "data": {
      "text/latex": [
       "$\\displaystyle -7592.22078252784$"
      ],
      "text/plain": [
       "-7592.22078252784"
      ]
     },
     "execution_count": 63,
     "metadata": {},
     "output_type": "execute_result"
    }
   ],
   "source": [
    "O_x_num = O_x.subs(data)\n",
    "O_x_num"
   ]
  },
  {
   "cell_type": "code",
   "execution_count": 64,
   "id": "4dce12a7",
   "metadata": {},
   "outputs": [
    {
     "data": {
      "text/latex": [
       "$\\displaystyle -2649.21243575399$"
      ],
      "text/plain": [
       "-2649.21243575399"
      ]
     },
     "execution_count": 64,
     "metadata": {},
     "output_type": "execute_result"
    }
   ],
   "source": [
    "O_y_num = O_y.subs(data)\n",
    "O_y_num"
   ]
  },
  {
   "cell_type": "code",
   "execution_count": 65,
   "id": "445ec9a4",
   "metadata": {},
   "outputs": [
    {
     "data": {
      "text/latex": [
       "$\\displaystyle M_{O} - \\frac{b l^{4} ε_{z} ρ \\tan{\\left(α \\right)}}{4} - \\frac{2 b l^{3} r ε_{z} ρ \\tan{\\left(α \\right)}}{3} - \\frac{b l^{2} r^{2} ε_{z} ρ \\tan{\\left(α \\right)}}{2} = 0$"
      ],
      "text/plain": [
       "         4                     3                     2  2                 \n",
       "      b⋅l ⋅ε_z⋅ρ⋅tan(α)   2⋅b⋅l ⋅r⋅ε_z⋅ρ⋅tan(α)   b⋅l ⋅r ⋅ε_z⋅ρ⋅tan(α)    \n",
       "M_O - ───────────────── - ───────────────────── - ──────────────────── = 0\n",
       "              4                     3                      2              "
      ]
     },
     "execution_count": 65,
     "metadata": {},
     "output_type": "execute_result"
    }
   ],
   "source": [
    "eq3 = sp.Eq( M_O + sp.integrate(p_y*x, (x,0,l)), 0 )\n",
    "eq3"
   ]
  },
  {
   "cell_type": "code",
   "execution_count": 66,
   "id": "ce326b53",
   "metadata": {
    "scrolled": true
   },
   "outputs": [],
   "source": [
    "M_O = sp.solve(eq3, M_O)\n",
    "M_O = M_O[0]"
   ]
  },
  {
   "cell_type": "code",
   "execution_count": 67,
   "id": "c5bc0f03",
   "metadata": {},
   "outputs": [
    {
     "data": {
      "text/latex": [
       "$\\displaystyle -197.1316989049$"
      ],
      "text/plain": [
       "-197.131698904900"
      ]
     },
     "execution_count": 67,
     "metadata": {},
     "output_type": "execute_result"
    }
   ],
   "source": [
    "M_O_num = M_O.subs(data)\n",
    "M_O_num"
   ]
  },
  {
   "cell_type": "markdown",
   "id": "9e2565a7",
   "metadata": {},
   "source": [
    "Stress resultants:"
   ]
  },
  {
   "cell_type": "code",
   "execution_count": 68,
   "id": "d137f61a",
   "metadata": {},
   "outputs": [
    {
     "data": {
      "text/latex": [
       "$\\displaystyle \\frac{b ρ ω^{2} \\left(l \\left(l^{2} + 3 l r + 3 r^{2}\\right) - 3 r^{2} x - 3 r x^{2} - x^{3}\\right) \\tan{\\left(α \\right)}}{3}$"
      ],
      "text/plain": [
       "     2 ⎛  ⎛ 2              2⎞      2          2    3⎞       \n",
       "b⋅ρ⋅ω ⋅⎝l⋅⎝l  + 3⋅l⋅r + 3⋅r ⎠ - 3⋅r ⋅x - 3⋅r⋅x  - x ⎠⋅tan(α)\n",
       "────────────────────────────────────────────────────────────\n",
       "                             3                              "
      ]
     },
     "execution_count": 68,
     "metadata": {},
     "output_type": "execute_result"
    }
   ],
   "source": [
    "N = -O_x - sp.integrate(p_x, (x,0,x))\n",
    "N.simplify()"
   ]
  },
  {
   "cell_type": "code",
   "execution_count": 69,
   "id": "5391d43b",
   "metadata": {},
   "outputs": [],
   "source": [
    "N_num = sp.lambdify(x, N.subs(data))"
   ]
  },
  {
   "cell_type": "code",
   "execution_count": 70,
   "id": "0dc1b6cf",
   "metadata": {},
   "outputs": [
    {
     "data": {
      "text/latex": [
       "$\\displaystyle \\frac{b ε_{z} ρ \\left(l \\left(l^{2} + 3 l r + 3 r^{2}\\right) - 3 r^{2} x - 3 r x^{2} - x^{3}\\right) \\tan{\\left(α \\right)}}{3}$"
      ],
      "text/plain": [
       "        ⎛  ⎛ 2              2⎞      2          2    3⎞       \n",
       "b⋅ε_z⋅ρ⋅⎝l⋅⎝l  + 3⋅l⋅r + 3⋅r ⎠ - 3⋅r ⋅x - 3⋅r⋅x  - x ⎠⋅tan(α)\n",
       "─────────────────────────────────────────────────────────────\n",
       "                              3                              "
      ]
     },
     "execution_count": 70,
     "metadata": {},
     "output_type": "execute_result"
    }
   ],
   "source": [
    "V = O_y + sp.integrate(p_y, (x,0,x))\n",
    "V.simplify()"
   ]
  },
  {
   "cell_type": "code",
   "execution_count": 71,
   "id": "1bed2423",
   "metadata": {},
   "outputs": [],
   "source": [
    "V_num = sp.lambdify(x, V.subs(data))"
   ]
  },
  {
   "cell_type": "code",
   "execution_count": 72,
   "id": "460522be",
   "metadata": {},
   "outputs": [
    {
     "data": {
      "text/latex": [
       "$\\displaystyle \\frac{b ε_{z} ρ \\left(l^{2} \\cdot \\left(3 l^{2} + 8 l r + 6 r^{2}\\right) - 4 l x \\left(l^{2} + 3 l r + 3 r^{2}\\right) + 6 r^{2} x^{2} + 4 r x^{3} + x^{4}\\right) \\tan{\\left(α \\right)}}{12}$"
      ],
      "text/plain": [
       "        ⎛ 2 ⎛   2              2⎞         ⎛ 2              2⎞      2  2       \n",
       "b⋅ε_z⋅ρ⋅⎝l ⋅⎝3⋅l  + 8⋅l⋅r + 6⋅r ⎠ - 4⋅l⋅x⋅⎝l  + 3⋅l⋅r + 3⋅r ⎠ + 6⋅r ⋅x  + 4⋅r⋅\n",
       "──────────────────────────────────────────────────────────────────────────────\n",
       "                                              12                              \n",
       "\n",
       " 3    4⎞       \n",
       "x  + x ⎠⋅tan(α)\n",
       "───────────────\n",
       "               "
      ]
     },
     "execution_count": 72,
     "metadata": {},
     "output_type": "execute_result"
    }
   ],
   "source": [
    "M_b = M_O - sp.integrate(V, (x,0,x))\n",
    "M_b.simplify()"
   ]
  },
  {
   "cell_type": "code",
   "execution_count": 73,
   "id": "d6d90f09",
   "metadata": {},
   "outputs": [],
   "source": [
    "M_b_num = sp.lambdify(x, M_b.subs(data))"
   ]
  },
  {
   "cell_type": "markdown",
   "id": "1db2646d",
   "metadata": {},
   "source": [
    "Plotting the functions:"
   ]
  },
  {
   "cell_type": "code",
   "execution_count": 74,
   "id": "fc0af6c2",
   "metadata": {},
   "outputs": [],
   "source": [
    "N_x_data = np.linspace(0,l_num)\n",
    "N_y_data = N_num(N_x_data)"
   ]
  },
  {
   "cell_type": "code",
   "execution_count": 75,
   "id": "529eb3d8",
   "metadata": {},
   "outputs": [
    {
     "data": {
      "image/png": "[encoded data removed]",
      "text/plain": [
       "<Figure size 629.921x393.701 with 1 Axes>"
      ]
     },
     "metadata": {},
     "output_type": "display_data"
    }
   ],
   "source": [
    "plt.figure(figsize=(16/2.54, 10/2.54))\n",
    "plt.plot(N_x_data,N_y_data)\n",
    "plt.grid(True, alpha=0.5, linestyle='--')\n",
    "plt.xlim(0,0.14);\n",
    "plt.ylim(0,8000);\n",
    "plt.xlabel('$\\\\mathrm{Blade~length ~ (m)}$', labelpad=10, size=12);\n",
    "plt.ylabel('$\\\\mathrm{Normal~force ~ (N)}$', labelpad=10, size=12);\n",
    "plt.xticks(fontsize=12);\n",
    "plt.yticks(fontsize=12);\n",
    "plt.savefig(\"normal_force.pdf\",bbox_inches='tight',pad_inches=2/25.4)"
   ]
  },
  {
   "cell_type": "code",
   "execution_count": 76,
   "id": "daf78d14",
   "metadata": {},
   "outputs": [],
   "source": [
    "V_x_data = np.linspace(0,l_num)\n",
    "V_y_data = V_num(V_x_data)"
   ]
  },
  {
   "cell_type": "code",
   "execution_count": 77,
   "id": "23657a7f",
   "metadata": {},
   "outputs": [
    {
     "data": {
      "image/png": "[encoded data removed]",
      "text/plain": [
       "<Figure size 629.921x393.701 with 1 Axes>"
      ]
     },
     "metadata": {},
     "output_type": "display_data"
    }
   ],
   "source": [
    "plt.figure(figsize=(16/2.54, 10/2.54))\n",
    "plt.plot(V_x_data,V_y_data)\n",
    "plt.grid(True, alpha=0.5, linestyle='--')\n",
    "plt.xlim(0,0.14);\n",
    "plt.ylim(-3000,500);\n",
    "plt.xlabel('$\\\\mathrm{Blade~length ~ (m)}$', labelpad=10, size=12);\n",
    "plt.ylabel('$\\\\mathrm{Shear~force ~ (N)}$', labelpad=10, size=12);\n",
    "plt.xticks(fontsize=12);\n",
    "plt.yticks(fontsize=12);\n",
    "plt.savefig(\"shear_force.pdf\",bbox_inches='tight',pad_inches=2/25.4)"
   ]
  },
  {
   "cell_type": "code",
   "execution_count": 78,
   "id": "ef39830d",
   "metadata": {},
   "outputs": [],
   "source": [
    "M_b_x_data = np.linspace(0,l_num)\n",
    "M_b_y_data = M_b_num(M_b_x_data)"
   ]
  },
  {
   "cell_type": "code",
   "execution_count": 79,
   "id": "47a82b0b",
   "metadata": {
    "scrolled": false
   },
   "outputs": [
    {
     "data": {
      "image/png": "[encoded data removed]",
      "text/plain": [
       "<Figure size 629.921x393.701 with 1 Axes>"
      ]
     },
     "metadata": {},
     "output_type": "display_data"
    }
   ],
   "source": [
    "plt.figure(figsize=(16/2.54, 10/2.54))\n",
    "plt.plot(M_b_x_data,M_b_y_data)\n",
    "plt.grid(True, alpha=0.5, linestyle='--')\n",
    "plt.xlim(0,0.14);\n",
    "plt.ylim(-200,25);\n",
    "plt.xlabel('$\\\\mathrm{Blade~length ~ (m)}$', labelpad=10, size=12);\n",
    "plt.ylabel('$\\\\mathrm{Bending~moment ~ (Nm)}$', labelpad=10, size=12);\n",
    "plt.xticks(fontsize=12);\n",
    "plt.yticks(fontsize=12);\n",
    "plt.savefig(\"bending_moment.pdf\",bbox_inches='tight',pad_inches=2/25.4)"
   ]
  },
  {
   "cell_type": "markdown",
   "id": "ce9db9c7",
   "metadata": {},
   "source": [
    "Maximum of normal force:"
   ]
  },
  {
   "cell_type": "code",
   "execution_count": 80,
   "id": "d175fd3f",
   "metadata": {},
   "outputs": [
    {
     "name": "stdout",
     "output_type": "stream",
     "text": [
      "The maximum value of the normal force is: N_max = 7592.2208 [N]\n"
     ]
    }
   ],
   "source": [
    "if abs(max(N_y_data)) > abs(min(N_y_data)):\n",
    "    N_max = max(N_y_data)\n",
    "    \n",
    "else:\n",
    "    N_max = min(N_y_data)\n",
    "    \n",
    "N_max = N_max.round(4)\n",
    "\n",
    "print(f'The maximum value of the normal force is: N_max = {N_max} [N]')"
   ]
  },
  {
   "cell_type": "markdown",
   "id": "7494c672",
   "metadata": {},
   "source": [
    "Maximum of bending moment:"
   ]
  },
  {
   "cell_type": "code",
   "execution_count": 81,
   "id": "8d38e010",
   "metadata": {},
   "outputs": [
    {
     "name": "stdout",
     "output_type": "stream",
     "text": [
      "The maximum value of the bending moment is: M_b_max = -197.1317 [Nm]\n"
     ]
    }
   ],
   "source": [
    "if abs(max(M_b_y_data)) > abs(min(M_b_y_data)):\n",
    "    M_b_max = max(M_b_y_data)\n",
    "    \n",
    "else:\n",
    "    M_b_max = min(M_b_y_data)\n",
    "    \n",
    "M_b_max = M_b_max.round(4)\n",
    "\n",
    "print(f'The maximum value of the bending moment is: M_b_max = {M_b_max} [Nm]')"
   ]
  },
  {
   "cell_type": "markdown",
   "id": "59cfe9b3",
   "metadata": {},
   "source": [
    "Maximum of shear force:"
   ]
  },
  {
   "cell_type": "code",
   "execution_count": 82,
   "id": "f97ff8d8",
   "metadata": {},
   "outputs": [
    {
     "name": "stdout",
     "output_type": "stream",
     "text": [
      "The maximum value of the shear force is: V_max = -2649.2124 [N]\n"
     ]
    }
   ],
   "source": [
    "if abs(max(V_y_data)) > abs(min(V_y_data)):\n",
    "    V_max = max(V_y_data)\n",
    "    \n",
    "else:\n",
    "    V_max = min(V_y_data)\n",
    "    \n",
    "V_max = V_max.round(4)\n",
    "\n",
    "print(f'The maximum value of the shear force is: V_max = {V_max} [N]')"
   ]
  },
  {
   "cell_type": "markdown",
   "id": "dc637841",
   "metadata": {},
   "source": [
    "Normal stress:"
   ]
  },
  {
   "cell_type": "code",
   "execution_count": 83,
   "id": "16e96533",
   "metadata": {},
   "outputs": [],
   "source": [
    "σ_x_x_data = np.linspace(0,l_num)"
   ]
  },
  {
   "cell_type": "code",
   "execution_count": 84,
   "id": "3393212c",
   "metadata": {},
   "outputs": [],
   "source": [
    "w_num = sp.lambdify(x, w.subs(data))"
   ]
  },
  {
   "cell_type": "code",
   "execution_count": 85,
   "id": "498f5fdd",
   "metadata": {},
   "outputs": [],
   "source": [
    "σ_x_y_data = M_b_num(σ_x_x_data) / (w_num(σ_x_x_data)**3*b_num / 12 )*(-w_num(σ_x_x_data)/2) + N_num(σ_x_x_data) / (w_num(σ_x_x_data)*b_num)\n",
    "σ_x_y_data;"
   ]
  },
  {
   "cell_type": "code",
   "execution_count": 86,
   "id": "6498970c",
   "metadata": {
    "scrolled": false
   },
   "outputs": [
    {
     "data": {
      "image/png": "[encoded data removed]",
      "text/plain": [
       "<Figure size 629.921x393.701 with 1 Axes>"
      ]
     },
     "metadata": {},
     "output_type": "display_data"
    }
   ],
   "source": [
    "plt.figure(figsize=(16/2.54, 10/2.54))\n",
    "plt.plot(σ_x_x_data,σ_x_y_data*10**(-6))\n",
    "plt.grid(True, alpha=0.5, linestyle='--')\n",
    "plt.xlim(0,0.14);\n",
    "#plt.ylim(-3000,500);\n",
    "plt.xlabel('$\\\\mathrm{Blade~length ~ (m)}$', labelpad=10, size=12);\n",
    "plt.ylabel('$\\\\mathrm{Normal~stress ~ (MPa)}$', labelpad=10, size=12);\n",
    "plt.xticks(fontsize=12);\n",
    "plt.yticks(fontsize=12);\n",
    "plt.savefig(\"normal_stress.pdf\",bbox_inches='tight',pad_inches=2/25.4)"
   ]
  },
  {
   "cell_type": "markdown",
   "id": "79189c02",
   "metadata": {},
   "source": [
    "Maximum of normal stress:"
   ]
  },
  {
   "cell_type": "code",
   "execution_count": 87,
   "id": "38b8f41a",
   "metadata": {},
   "outputs": [
    {
     "name": "stdout",
     "output_type": "stream",
     "text": [
      "The maximum value of normal stress is: σ_x_max = 108.952 [MPa]\n"
     ]
    }
   ],
   "source": [
    "if abs(max(σ_x_y_data)) > abs(min(σ_x_y_data)):\n",
    "    σ_x_max = max(σ_x_y_data)\n",
    "    \n",
    "else:\n",
    "    σ_x_max = min(σ_x_y_data)\n",
    "\n",
    "σ_x_max = (σ_x_max/10**6).round(4)\n",
    "\n",
    "print(f'The maximum value of normal stress is: σ_x_max = {σ_x_max} [MPa]')"
   ]
  }
 ],
 "metadata": {
  "kernelspec": {
   "display_name": "Python 3 (ipykernel)",
   "language": "python",
   "name": "python3"
  },
  "language_info": {
   "codemirror_mode": {
    "name": "ipython",
    "version": 3
   },
   "file_extension": ".py",
   "mimetype": "text/x-python",
   "name": "python",
   "nbconvert_exporter": "python",
   "pygments_lexer": "ipython3",
   "version": "3.11.2"
  }
 },
 "nbformat": 4,
 "nbformat_minor": 5
}
